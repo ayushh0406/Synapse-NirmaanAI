{
 "cells": [
  {
   "cell_type": "markdown",
   "id": "caae2a6f",
   "metadata": {},
   "source": [
    "# Product Card Generator\n",
    "\n",
    "This notebook creates a web application for generating product cards using the Gemini API. The interface features:\n",
    "- A form on the left to collect product details\n",
    "- Generated code and preview on the right"
   ]
  },
  {
   "cell_type": "markdown",
   "id": "7df37e58",
   "metadata": {},
   "source": [
    "## Import Required Libraries"
   ]
  },
  {
   "cell_type": "code",
   "execution_count": null,
   "id": "723d292e",
   "metadata": {},
   "outputs": [],
   "source": [
    "# Import necessary libraries\n",
    "from flask import Flask, render_template, request, jsonify\n",
    "import google.generativeai as genai\n",
    "import os\n",
    "import json\n",
    "from dotenv import load_dotenv\n",
    "import markdown\n",
    "import html"
   ]
  },
  {
   "cell_type": "markdown",
   "id": "2272e13d",
   "metadata": {},
   "source": [
    "## Set Up Gemini API Integration"
   ]
  },
  {
   "cell_type": "code",
   "execution_count": null,
   "id": "115c82dd",
   "metadata": {},
   "outputs": [],
   "source": [
    "# Load environment variables and configure the Gemini API\n",
    "load_dotenv()\n",
    "api_key = os.getenv(\"GEMINI_API_KEY\")\n",
    "genai.configure(api_key=api_key)\n",
    "\n",
    "# Initialize the Gemini Pro model\n",
    "model = genai.GenerativeModel('gemini-1.5-pro')"
   ]
  },
  {
   "cell_type": "markdown",
   "id": "698bb359",
   "metadata": {},
   "source": [
    "## Card Generation Function"
   ]
  },
  {
   "cell_type": "code",
   "execution_count": null,
   "id": "57fef35e",
   "metadata": {},
   "outputs": [],
   "source": [
    "def generate_product_card(product_data):\n",
    "    \"\"\"\n",
    "    Generate a React component for a product card using Gemini AI.\n",
    "    \n",
    "    Args:\n",
    "        product_data: Dictionary containing product name, description, image URL, etc.\n",
    "        \n",
    "    Returns:\n",
    "        String containing the React component code\n",
    "    \"\"\"\n",
    "    prompt = f\"\"\"\n",
    "    Create a React component for a product card with the following details:\n",
    "    \n",
    "    Product Name: {product_data['name']}\n",
    "    Product Description: {product_data['description']}\n",
    "    Color Theme: {product_data['colorTheme']}\n",
    "    \n",
    "    Additional Design Instructions: {product_data['designPrompt']}\n",
    "    \n",
    "    {'The component should include an image with the following URL: ' + product_data['imageUrl'] if product_data['imageUrl'] else 'The component should include an image placeholder.'}\n",
    "    \n",
    "    Please provide a React component that:\n",
    "    1. Uses Tailwind CSS for styling\n",
    "    2. Is responsive and looks good on all devices\n",
    "    3. Includes appropriate animations or hover effects\n",
    "    4. Follows modern design principles\n",
    "    5. Includes a \"Buy Now\" or \"Add to Cart\" button\n",
    "    \n",
    "    Return only the component code without any explanations.\n",
    "    \"\"\"\n",
    "    \n",
    "    response = model.generate_content(prompt)\n",
    "    code = response.text\n",
    "    \n",
    "    # Extract code if wrapped in markdown code blocks\n",
    "    if code.startswith(\"```\") and code.endswith(\"```\"):\n",
    "        code = code[code.find(\"\\n\")+1:code.rfind(\"```\")]\n",
    "    \n",
    "    # Remove language identifier if present\n",
    "    if code.startswith(\"jsx\") or code.startswith(\"tsx\") or code.startswith(\"javascript\"):\n",
    "        code = code[code.find(\"\\n\")+1:]\n",
    "    \n",
    "    return code"
   ]
  },
  {
   "cell_type": "markdown",
   "id": "57c22ad6",
   "metadata": {},
   "source": [
    "## React Component Layout"
   ]
  },
  {
   "cell_type": "code",
   "execution_count": null,
   "id": "aca538f5",
   "metadata": {
    "vscode": {
     "languageId": "jsx"
    }
   },
   "outputs": [],
   "source": [
    "// BrandSettings.tsx component structure\n",
    "import { useState } from 'react';\n",
    "import { Tabs, TabsContent, TabsList, TabsTrigger } from \"./ui/tabs\";\n",
    "import { Button } from \"./ui/button\";\n",
    "import { generateProductCard } from '../lib/ai';\n",
    "import { Editor } from './Editor';\n",
    "\n",
    "export default function BrandSettings() {\n",
    "  const [formData, setFormData] = useState({\n",
    "    name: '',\n",
    "    description: '',\n",
    "    imageUrl: '',\n",
    "    colorTheme: 'blue',\n",
    "    designPrompt: ''\n",
    "  });\n",
    "  const [generatedCode, setGeneratedCode] = useState('');\n",
    "  const [isGenerating, setIsGenerating] = useState(false);\n",
    "  \n",
    "  const handleSubmit = async (e) => {\n",
    "    e.preventDefault();\n",
    "    setIsGenerating(true);\n",
    "    \n",
    "    try {\n",
    "      const code = await generateProductCard(formData);\n",
    "      setGeneratedCode(code);\n",
    "    } catch (error) {\n",
    "      console.error('Error generating card:', error);\n",
    "    } finally {\n",
    "      setIsGenerating(false);\n",
    "    }\n",
    "  };\n",
    "  \n",
    "  return (\n",
    "    <div className=\"flex h-full w-full gap-4 p-4\">\n",
    "      {/* Form card (left) */}\n",
    "      <div className=\"w-1/3 neobrutalist-card p-4 h-full overflow-y-auto\">\n",
    "        <h2 className=\"text-xl font-bold mb-6\">Product Card Generator</h2>\n",
    "        <form onSubmit={handleSubmit}>\n",
    "          {/* Form fields */}\n",
    "        </form>\n",
    "      </div>\n",
    "      \n",
    "      {/* Code and Preview card (right) */}\n",
    "      <div className=\"w-2/3 neobrutalist-card h-full overflow-hidden\">\n",
    "        <Tabs defaultValue=\"code\" className=\"w-full h-full\">\n",
    "          <TabsList className=\"w-full\">\n",
    "            <TabsTrigger value=\"code\" className=\"flex-1\">Code</TabsTrigger>\n",
    "            <TabsTrigger value=\"preview\" className=\"flex-1\">Preview</TabsTrigger>\n",
    "          </TabsList>\n",
    "          <TabsContent value=\"code\" className=\"h-[calc(100%-3rem)] overflow-hidden\">\n",
    "            <Editor value={generatedCode} language=\"javascript\" />\n",
    "          </TabsContent>\n",
    "          <TabsContent value=\"preview\" className=\"h-[calc(100%-3rem)] overflow-auto p-4\">\n",
    "            {generatedCode ? (\n",
    "              <div className=\"preview-container\">\n",
    "                {/* Preview container for the generated component */}\n",
    "              </div>\n",
    "            ) : (\n",
    "              <div className=\"flex items-center justify-center h-full\">\n",
    "                <p className=\"text-muted-foreground\">Generate a product card to see a preview</p>\n",
    "              </div>\n",
    "            )}\n",
    "          </TabsContent>\n",
    "        </Tabs>\n",
    "      </div>\n",
    "    </div>\n",
    "  );\n",
    "}"
   ]
  },
  {
   "cell_type": "markdown",
   "id": "3de22d12",
   "metadata": {},
   "source": [
    "## Implementation Steps\n",
    "\n",
    "1. Create a BrandSettings.tsx component in the components directory\n",
    "2. Create the generateProductCard function in lib/ai.ts\n",
    "3. Update App.tsx to render BrandSettings when toggled\n",
    "4. Create an Editor.tsx component for code display\n",
    "5. Modify the sidebar to include a Product Card Generator option"
   ]
  }
 ],
 "metadata": {
  "language_info": {
   "name": "python"
  }
 },
 "nbformat": 4,
 "nbformat_minor": 5
}
